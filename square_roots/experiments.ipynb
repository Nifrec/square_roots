{
 "cells": [
  {
   "cell_type": "markdown",
   "metadata": {},
   "source": [
    "# Computing square roots\n",
    "By only using addition and multiplication\n",
    "\n",
    "## Initial experiment: flawed math\n",
    "My initial idea was as follows:\n",
    "\n",
    "**`ComputePower(n := num digits, k := number to compute k^¼ of)`**\n",
    "```python\n",
    "cumsum := 0\n",
    "d := [None]*n #empty array of length n\n",
    "\n",
    "for i = 0 to n:\n",
    "    choose d[i] as an integer in [0, 9] \n",
    "        such that cumsum*(1 + 0.1**i * d[i])**2 <= k\n",
    "    cumsum += (0.1**i * d[i])**2\n",
    "return f\"{d[0]}.{d[1]}{d[2]}etc...\"\n",
    "```\n",
    "\n",
    "This approach does not work, as it ignores binomial expansion. \n",
    "That is, the term `(1 + 0.1**i * d[i])**2` is only multiplied with `cumsum`.\n",
    "and not with the digits that will be added later.\n",
    "\n",
    "## Second approach: brute force\n",
    "Silimar to the above, but now check if `(cumsum + 0.1**i * d[i]) <= k`;\n",
    "the square of cumsum is recomputer every iteration.\n"
   ]
  },
  {
   "cell_type": "markdown",
   "metadata": {},
   "source": []
  }
 ],
 "metadata": {
  "interpreter": {
   "hash": "f50bd5474255f82aa829301912ce59e29110123be660cf8d7583f66a20371684"
  },
  "kernelspec": {
   "display_name": "Python 3.7.9 64-bit ('base': conda)",
   "name": "python3"
  },
  "language_info": {
   "name": "python",
   "version": ""
  },
  "orig_nbformat": 4
 },
 "nbformat": 4,
 "nbformat_minor": 2
}